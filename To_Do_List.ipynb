{
 "cells": [
  {
   "cell_type": "code",
   "execution_count": 4,
   "metadata": {},
   "outputs": [
    {
     "name": "stdout",
     "output_type": "stream",
     "text": [
      "\n",
      "Options:\n",
      "1. Add a task\n",
      "2. Display tasks\n",
      "3. Mark a task as completed\n",
      "4. Quit\n"
     ]
    },
    {
     "name": "stdout",
     "output_type": "stream",
     "text": [
      "No tasks in the list.\n",
      "\n",
      "Options:\n",
      "1. Add a task\n",
      "2. Display tasks\n",
      "3. Mark a task as completed\n",
      "4. Quit\n",
      "Goodbye!\n"
     ]
    }
   ],
   "source": [
    "# To-Do List Application in Python\n",
    "\n",
    "# Initialize an empty list to store tasks\n",
    "tasks = []\n",
    "\n",
    "# Function to add a task to the list\n",
    "def add_task(task):\n",
    "    tasks.append(task)\n",
    "    print(\"Task added successfully.\")\n",
    "\n",
    "# Function to display all tasks\n",
    "def display_tasks():\n",
    "    if not tasks:\n",
    "        print(\"No tasks in the list.\")\n",
    "    else:\n",
    "        print(\"To-Do List:\")\n",
    "        for i, task in enumerate(tasks, start=1):\n",
    "            print(f\"{i}. {task}\")\n",
    "\n",
    "# Function to mark a task as completed\n",
    "def complete_task(task_index):\n",
    "    if 1 <= task_index <= len(tasks):\n",
    "        print(f\"Task '{tasks[task_index - 1]}' marked as completed.\")\n",
    "        tasks.pop(task_index - 1)\n",
    "    else:\n",
    "        print(\"Invalid task index.\")\n",
    "\n",
    "# Main loop\n",
    "while True:\n",
    "    print(\"\\nOptions:\")\n",
    "    print(\"1. Add a task\")\n",
    "    print(\"2. Display tasks\")\n",
    "    print(\"3. Mark a task as completed\")\n",
    "    print(\"4. Quit\")\n",
    "\n",
    "    choice = input(\"Enter your choice: \")\n",
    "\n",
    "    if choice == '1':\n",
    "        task = input(\"Enter the task: \")\n",
    "        add_task(task)\n",
    "    elif choice == '2':\n",
    "        display_tasks()\n",
    "    elif choice == '3':\n",
    "        task_index = int(input(\"Enter the task index to mark as completed: \"))\n",
    "        complete_task(task_index)\n",
    "    elif choice == '4':\n",
    "        break\n",
    "    else:\n",
    "        print(\"Invalid choice. Please select a valid option.\")\n",
    "\n",
    "print(\"Goodbye!\")\n"
   ]
  }
 ],
 "metadata": {
  "kernelspec": {
   "display_name": "base",
   "language": "python",
   "name": "python3"
  },
  "language_info": {
   "codemirror_mode": {
    "name": "ipython",
    "version": 3
   },
   "file_extension": ".py",
   "mimetype": "text/x-python",
   "name": "python",
   "nbconvert_exporter": "python",
   "pygments_lexer": "ipython3",
   "version": "3.10.9"
  }
 },
 "nbformat": 4,
 "nbformat_minor": 2
}
